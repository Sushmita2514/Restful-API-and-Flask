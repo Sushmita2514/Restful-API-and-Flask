{
  "nbformat": 4,
  "nbformat_minor": 0,
  "metadata": {
    "colab": {
      "provenance": []
    },
    "kernelspec": {
      "name": "python3",
      "display_name": "Python 3"
    },
    "language_info": {
      "name": "python"
    }
  },
  "cells": [
    {
      "cell_type": "markdown",
      "source": [
        "#Assignment Questions"
      ],
      "metadata": {
        "id": "T70HUe2oiNoQ"
      }
    },
    {
      "cell_type": "markdown",
      "source": [
        "1. What is a RESTful API4?\n",
        "- A RESTful API is an application programming interface that follows the principles of REST (Representational State Transfer) architecture. It allows different software systems to communicate over HTTP by exposing resources through standardized endpoints. RESTful APIs use common HTTP methods-such as GET, POST, PUT, and DELETE-to perform operations on resources, and responses are typically formatted in JSON or XML. RESTful APIs are stateless, meaning each request contains all the information needed for the server to fulfill it, enabling scalability and simplicity in web and mobile applications\n",
        "\n",
        "2. Explain the concept of API specification?\n",
        "- An API specification is a formal document that defines how an API behaves, what endpoints it exposes, the data types it supports, and the expected requests and responses. It acts as a blueprint for both developers and automated tools, detailing the structure, parameters, authentication methods, and error messages of the API. Specifications are typically written before the API is implemented, ensuring consistency and clarity for anyone building or consuming the API. Examples include the OpenAPI Specification, which provides a standard, language-agnostic interface to HTTP APIs.\n",
        "\n",
        "3. What is Flask, and why is it popular for building APIs?\n",
        "- Flask is a lightweight, open-source web framework for Python used to build web applications and APIs. It is popular for API development because of its simplicity, flexibility, and minimal setup requirements. Flask allows developers to quickly create RESTful APIs by defining endpoints with decorators and handling HTTP requests with minimal boilerplate code. Its modular design, extensive documentation, and large ecosystem of extensions make it easy to scale from small prototypes to complex applications. Flask's popularity also comes from its ease of learning and integration with other Python libraries.\n",
        "\n",
        "4. What is routing in Flask?\n",
        "- Routing in Flask is the process of mapping URLs to specific functions in your application, known as view functions. When a user visits a particular URL, Flask uses its routing system to determine which function should handle the request and generate a response. This is done using the @app.route() decorator, which binds a URL pattern to a view function. For example, @app.route('/hello') would trigger the associated function when a user accesses /hello in the browser.\n",
        "\n",
        "5. How do you create a simple Flask application?\n",
        "- To create a simple Flask application, follow these steps:\n",
        "\n",
        " - Import the Flask class from the flask package.\n",
        "\n",
        " - Create an instance of the Flask class.\n",
        "\n",
        " - Define a view function and use the @app.route() decorator to map a URL to it.\n",
        "\n",
        "  - Run the application."
      ],
      "metadata": {
        "id": "-umTv-kLvn5u"
      }
    },
    {
      "cell_type": "code",
      "source": [
        "from flask import Flask\n",
        "\n",
        "app = Flask(__name__)\n",
        "\n",
        "@app.route('/')\n",
        "def hello_world():\n",
        "    return 'Hello, World!'\n",
        "\n",
        "if __name__ == '__main__':\n",
        "    app.run()"
      ],
      "metadata": {
        "id": "To0d8qWoyvtq"
      },
      "execution_count": null,
      "outputs": []
    },
    {
      "cell_type": "markdown",
      "source": [
        "6. What are HTTP methods used in RESTful APIs?\n",
        "- In RESTful APIs, the HTTP methods (also called HTTP verbs) define what action is being performed on the resource. The most commonly used HTTP methods in RESTful APIs are:\n",
        " - 1.- **GET**:- Purpose: Retrieve data from the server.\n",
        "\n",
        " - Example: Fetching a list of users or a specific user from the API.\n",
        "\n",
        " - Idempotent: Calling the same GET request multiple times will always return the same result, without changing the resource.\n",
        "\n",
        " - Example: GET /users or GET /users/1\n",
        " - 2.- **POST**:- Purpose: Create a new resource on the server.\n",
        "\n",
        " - Example: Submitting a new user to be created.\n",
        "\n",
        "  - Non-idempotent: Calling the same POST request multiple times may create multiple resources.\n",
        "\n",
        " - Example: POST /users with JSON data for a new user.\n",
        " - 3.- **PUT**:- Purpose: Update an existing resource or create it if it doesn't exist.\n",
        "\n",
        " - Example: Updating a user's information.\n",
        "\n",
        " - Idempotent: Calling the same PUT request multiple times with the same data should return the same result.\n",
        "\n",
        " - Example: PUT /users/1 with updated user data.\n",
        " 4. **PATCH**:Purpose: Partially update an existing resource.\n",
        "\n",
        " - Example: Updating just the user's email address without affecting other fields.\n",
        "\n",
        " - Idempotent: Like PUT, but typically only modifies part of the resource.\n",
        "\n",
        " - Example: PATCH /users/1 with partial data (e.g., just the email).\n",
        " 5. **DELETE**:- Purpose: Remove a resource from the server.\n",
        "\n",
        " - Example: Deleting a user.\n",
        "\n",
        " - Idempotent: Calling the same DELETE request multiple times will not change the result (the resource will already be deleted).\n",
        " - Example: DELETE /users/1\n",
        " 6. **OPTIONS**:- Purpose: Retrieve the allowed HTTP methods for a specific resource.\n",
        "\n",
        " - Example: Asking the server which methods (like GET, POST, PUT, etc.) are allowed for a particular endpoint.\n",
        "\n",
        " - Example: OPTIONS /users\n",
        " 7. **HEAD**:- Purpose: Similar to GET, but it only retrieves the headers, not the body of the response.\n",
        "\n",
        " - Example: Checking metadata about a resource (e.g., last modified date).\n",
        "\n",
        " - Example: HEAD /users/1\n",
        "\n"
      ],
      "metadata": {
        "id": "3BKJqAV6yzGy"
      }
    },
    {
      "cell_type": "markdown",
      "source": [
        "7. What is the purpose of the @app.route() decorator in Flask?\n",
        "- The @app.route() decorator in Flask is used to bind a URL pattern to a specific Python function, creating a route that will handle incoming HTTP requests. This decorator tells Flask which function to call when a client accesses a specific endpoint (URL) with a particular HTTP method (GET, POST, etc.).\n",
        "\n",
        "In other words, the @app.route() decorator defines how the application responds to a particular URL. The function defined below the decorator will handle the logic for processing that request and returning a response."
      ],
      "metadata": {
        "id": "vkBP3yxm1KMC"
      }
    },
    {
      "cell_type": "code",
      "source": [
        "@app.route('/')\n",
        "def home():\n",
        "    return \"Welcome to the homepage!\"\n"
      ],
      "metadata": {
        "id": "5lGUx0KH2QUI"
      },
      "execution_count": null,
      "outputs": []
    },
    {
      "cell_type": "markdown",
      "source": [
        "8. What is the difference between GET and POST HTTP methods?\n",
        "- ![Screenshot 2025-05-15 130104.png](data:image/png;base64,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)"
      ],
      "metadata": {
        "id": "S18pfntl2SEB"
      }
    },
    {
      "cell_type": "markdown",
      "source": [
        "9. How do you handle errors in Flask APIs?\n",
        "- Error handling in Flask APIs is typically done by registering error handlers that catch exceptions and return structured, meaningful responses. For RESTful APIs, it's common to return errors in JSON format with appropriate HTTP status codes (e.g., 404 for not found, 400 for bad request, 500 for internal server error)."
      ],
      "metadata": {
        "id": "x6NMGvuA3bV6"
      }
    },
    {
      "cell_type": "code",
      "source": [
        "from flask import abort, jsonify\n",
        "\n",
        "@app.errorhandler(404)\n",
        "def resource_not_found(e):\n",
        "    return jsonify(error=str(e)), 404\n",
        "\n",
        "@app.route(\"/item/<int:item_id>\")\n",
        "def get_item(item_id):\n",
        "    item = get_item_from_db(item_id)\n",
        "    if item is None:\n",
        "        abort(404, description=\"Resource not found\")\n",
        "    return jsonify(item)\n"
      ],
      "metadata": {
        "id": "hD2ayYfh3e8w"
      },
      "execution_count": null,
      "outputs": []
    },
    {
      "cell_type": "markdown",
      "source": [
        "10. How do you connect Flask to a SQL database?\n",
        "- To connect Flask to a SQL database, you typically use the Flask-SQLAlchemy extension, which integrates SQLAlchemy (a popular ORM) with your Flask application. The basic steps are:\n",
        "\n"
      ],
      "metadata": {
        "id": "eOiFClGOFV2r"
      }
    },
    {
      "cell_type": "code",
      "source": [
        "pip install flask-sqlalchemy"
      ],
      "metadata": {
        "id": "D3cPndNDFZ6T"
      },
      "execution_count": null,
      "outputs": []
    },
    {
      "cell_type": "code",
      "source": [
        "from flask import Flask\n",
        "from flask_sqlalchemy import SQLAlchemy\n",
        "\n",
        "app = Flask(__name__)\n",
        "app.config['SQLALCHEMY_DATABASE_URI'] = 'sqlite:///mydatabase.db'  # or another database URI\n",
        "db = SQLAlchemy(app)"
      ],
      "metadata": {
        "id": "PGjpBR2VFbCy"
      },
      "execution_count": null,
      "outputs": []
    },
    {
      "cell_type": "markdown",
      "source": [
        "- The SQLALCHEMY_DATABASE_URI configuration key specifies the connection string for your database (e.g., SQLite, MySQL, PostgreSQL)."
      ],
      "metadata": {
        "id": "8qKrQRViFgvy"
      }
    },
    {
      "cell_type": "markdown",
      "source": [
        "11. What is the role of Flask-SQLAlchemy?\n",
        "- Flask-SQLAlchemy is an extension for Flask that simplifies the use of SQLAlchemy, a powerful and flexible SQL toolkit and ORM (Object-Relational Mapper) for Python.\n",
        " - **Key roles of Flask-SQLAlchemy:**\n",
        "   - **ORM Integration**: Allows you to interact with SQL databases using Python classes and objects instead of writing raw SQL.\n",
        "\n",
        "   - **Simplified Configuration**: Integrates SQLAlchemy's features directly into Flask with simple configuration options.\n",
        "\n",
        "   - **Model Definition**: Enables defining tables as Python classes using declarative syntax.\n",
        "\n",
        "   - **Session Management**: Automatically handles the session lifecycle for database transactions.\n",
        "\n",
        "   - **Migration Compatibility**: Works well with tools like Flask-Migrate to manage database schema changes over time.\n",
        "\n",
        " - **Benefits**:\n",
        "   - Reduces boilerplate code for database operations.\n",
        "\n",
        "   - Encourages clean, readable, and maintainable code.\n",
        "\n",
        "   - Supports multiple database engines (SQLite, PostgreSQL, MySQL, etc.).\n",
        "\n",
        "\n",
        "12. What are Flask blueprints, and how are they useful?\n",
        "- Flask Blueprints are a way to organize a Flask application into smaller, modular components. A blueprint is like a mini-application that defines its own routes, views, and static files, which can be registered with the main Flask app.\n",
        "- Why blueprints are useful:\n",
        "  - **Modularity**: Breaks down a large application into smaller, manageable parts (e.g., auth, admin, api).\n",
        "\n",
        " - **Reusability**: Blueprints can be reused across different projects or apps.\n",
        "\n",
        "  - **Cleaner Codebase**: Keeps route definitions and logic organized and separated by feature or functionality.\n",
        "\n",
        "- Example of using blueprints:\n",
        "  - auth.py (Blueprint definition):"
      ],
      "metadata": {
        "id": "W8m-P4ixFxLy"
      }
    },
    {
      "cell_type": "code",
      "source": [
        "from flask import Blueprint\n",
        "\n",
        "auth_bp = Blueprint('auth', __name__)\n",
        "\n",
        "@auth_bp.route('/login')\n",
        "def login():\n",
        "    return \"Login Page\"\n",
        "\n",
        "@auth_bp.route('/register')\n",
        "def register():\n",
        "    return \"Register Page\"\n"
      ],
      "metadata": {
        "id": "Nr9mb_4yGva8"
      },
      "execution_count": null,
      "outputs": []
    },
    {
      "cell_type": "code",
      "source": [
        "# app.py (Main app):\n",
        "\n",
        "from flask import Flask\n",
        "from auth import auth_bp\n",
        "\n",
        "app = Flask(__name__)\n",
        "app.register_blueprint(auth_bp, url_prefix='/auth')\n",
        "\n",
        "if __name__ == '__main__':\n",
        "    app.run(debug=True)"
      ],
      "metadata": {
        "id": "0yLbdJSpGyoj"
      },
      "execution_count": null,
      "outputs": []
    },
    {
      "cell_type": "markdown",
      "source": [
        "13. What is the purpose of Flask's request object?\n",
        "- The request object in Flask serves as a central hub to access all incoming data from a client's request. Think of it as Flask's way of packaging up everything the user's browser or application sends to your server. This includes:\n",
        "\n",
        "* **Form data:** Data submitted through HTML forms (e.g., username, password). You can access this using `request.form`.\n",
        "* **Query parameters:** Data appended to the URL after a question mark (e.g., `/users?id=123`). You can access these using `request.args`.\n",
        "* **JSON data:** Data sent in the request body as JSON. You can access this using `request.get_json()`.\n",
        "* **Files:** Files uploaded through forms. You can access these using `request.files`.\n",
        "* **Headers:** HTTP headers sent by the client (e.g., user-agent, content-type). You can access these using `request.headers`.\n",
        "* **Cookies:** Cookies sent by the client. You can access these using `request.cookies`.\n",
        "* **Method:** The HTTP method used for the request (e.g., GET, POST, PUT, DELETE). You can access this using `request.method`.\n",
        "* **URL information:** Details about the requested URL, like the path. You can access this using `request.path` or `request.url`.\n",
        "\n",
        "Essentially, the `request` object allows your Flask application to understand and process the information sent by the client.\n",
        "\n",
        "14. How do you create a RESTful API endpoint using Flask?\n",
        "- To create a RESTful API endpoint using Flask, you define routes with the @app.route decorator and implement handler functions that process HTTP requests (GET, POST, etc.). Typically, you use the request object to access incoming data and return responses using functions like jsonify."
      ],
      "metadata": {
        "id": "hFcEW20ZBHct"
      }
    },
    {
      "cell_type": "code",
      "source": [
        "from flask import Flask, request, jsonify\n",
        "\n",
        "app = Flask(__name__)\n",
        "\n",
        "incomes = [\n",
        "    {'description': 'salary', 'amount': 5000}\n",
        "]\n",
        "\n",
        "@app.route('/incomes', methods=['GET'])\n",
        "def get_incomes():\n",
        "    return jsonify(incomes)\n",
        "\n",
        "@app.route('/incomes', methods=['POST'])\n",
        "def add_income():\n",
        "    incomes.append(request.get_json())\n",
        "    return '', 204\n"
      ],
      "metadata": {
        "id": "GywYPQSXCpkt"
      },
      "execution_count": null,
      "outputs": []
    },
    {
      "cell_type": "markdown",
      "source": [
        "+ In this example:\n",
        "\n",
        "+ The GET /incomes endpoint returns a list of incomes as JSON.\n",
        "\n",
        "+ The POST /incomes endpoint accepts a JSON payload, adds it to the incomes list, and returns a 204 No Content response.\n",
        "\n",
        "15. What is the purpose of Flask's jsonify() function\n",
        "+ The jsonify() function in Flask is used to convert Python dictionaries or other data structures into a JSON-formatted HTTP response.\n",
        " -  **Purpose:**\n",
        "\n",
        "  - It automatically sets the correct Content-Type header (application/json)\n",
        "\n",
        "  - It ensures proper encoding of data into JSON\n",
        "\n",
        "  - It simplifies returning JSON responses in API endpoints"
      ],
      "metadata": {
        "id": "KAhLh3s8C2ny"
      }
    },
    {
      "cell_type": "code",
      "source": [
        "@app.route('/books')\n",
        "def list_of_books():\n",
        "    books = [\n",
        "        {'name': 'The Call of the Wild', 'author': 'Jack London'},\n",
        "        {'name': 'Heart of Darkness', 'author': 'Joseph Conrad'}\n",
        "    ]\n",
        "    return jsonify(books)\n"
      ],
      "metadata": {
        "id": "0kLouekjDhSZ"
      },
      "execution_count": null,
      "outputs": []
    },
    {
      "cell_type": "markdown",
      "source": [
        "16. Explain Flask’s url_for() function\n",
        "- The url_for() function in Flask is used to dynamically generate URLs for routes defined in your application. Instead of hardcoding URLs, you provide the endpoint (the name of the view function) and any necessary arguments. This makes your code more maintainable-if you change a route, you only need to update it in one place, and all references using url_for() will automatically update.\n"
      ],
      "metadata": {
        "id": "hk4jOfL3D0AK"
      }
    },
    {
      "cell_type": "code",
      "source": [
        "from flask import Flask, url_for\n",
        "\n",
        "app = Flask(__name__)\n",
        "\n",
        "@app.route('/user/<username>')\n",
        "def profile(username):\n",
        "    return f\"Profile: {username}\"\n",
        "\n",
        "@app.route('/')\n",
        "def index():\n",
        "    return url_for('profile', username='john')  # returns \"/user/john\"\n"
      ],
      "metadata": {
        "id": "JjqY1vPcFVlh"
      },
      "execution_count": null,
      "outputs": []
    },
    {
      "cell_type": "markdown",
      "source": [
        " + Benefits:\n",
        "\n",
        " + Avoids hardcoding URLs\n",
        "\n",
        " + Helps maintain clean, DRY code\n",
        "\n",
        "+ Ensures route changes don't break links\n",
        "\n"
      ],
      "metadata": {
        "id": "sUN5vbklFbAg"
      }
    },
    {
      "cell_type": "markdown",
      "source": [
        "15. How does Flask handle static files (CSS, JavaScript, etc.)?\n",
        "- Flask automatically serves static files from a folder named static/ in your project directory. You reference these files in your HTML using url_for('static', filename='path/to/file.css').\n",
        "\n",
        "Project structure:"
      ],
      "metadata": {
        "id": "TisFQq-SFujY"
      }
    },
    {
      "cell_type": "code",
      "source": [
        "myapp/\n",
        "│\n",
        "├── static/\n",
        "│   └── style.css\n",
        "├── templates/\n",
        "│   └── index.html\n",
        "├── app.py\n"
      ],
      "metadata": {
        "id": "49XGPXxZF5kQ"
      },
      "execution_count": null,
      "outputs": []
    },
    {
      "cell_type": "code",
      "source": [
        "<link rel=\"stylesheet\" href=\"{{ url_for('static', filename='style.css') }}\">\n"
      ],
      "metadata": {
        "id": "7yNvxsSCF78Y"
      },
      "execution_count": null,
      "outputs": []
    },
    {
      "cell_type": "markdown",
      "source": [
        "16. What is an API specification, and how does it help in building a Flask API?\n",
        "- An API specification is a formal, structured description of how an API behaves—its endpoints, methods, inputs, outputs, data types, authentication, and error handling.\n",
        "\n",
        "**Common formats:**\n",
        "\n",
        " - OpenAPI (formerly Swagger)\n",
        "\n",
        " - RAML\n",
        "\n",
        " - API Blueprint\n",
        "\n",
        "**How it helps:**\n",
        "\n",
        " - Documentation: Acts as a source of truth for developers using or building the API\n",
        "\n",
        " - Validation: Helps ensure requests/responses follow defined formats\n",
        "\n",
        " - Code generation: Tools like Swagger Codegen can generate client/server code from the spec\n",
        "\n",
        " - Testing: API specs make automated testing easier and more reliable\n",
        "\n",
        " - In Flask: You can use tools like Flasgger or Connexion to integrate OpenAPI specs directly into your Flask app."
      ],
      "metadata": {
        "id": "aHMF_n4qGJzI"
      }
    },
    {
      "cell_type": "markdown",
      "source": [
        "19. What are HTTP status codes, and why are they important in a Flask API?\n",
        "- HTTP status codes are standardized codes sent by the server in an HTTP response to indicate the result of the client’s request. They inform the client about whether the request was successful, failed, or requires additional action.\n",
        "\n",
        "**Common categories:**\n",
        "\n",
        " - 2xx – Success (e.g., 200 OK, 201 Created)\n",
        "\n",
        " - 4xx – Client error (e.g., 400 Bad Request, 404 Not Found)\n",
        "\n",
        " - 5xx – Server error (e.g., 500 Internal Server Error)\n",
        "\n",
        "**Why they are important in Flask APIs:**\n",
        "\n",
        " - Help clients understand the outcome of a request\n",
        "\n",
        " - Allow for better debugging and error handling\n",
        "\n",
        " - Make your API more RESTful and predictable\n",
        "\n",
        "20. How do you handle POST requests in Flask?\n",
        "- To handle POST requests, you define a route with methods=['POST'], then extract data from the request using request.form, request.json, or request.data."
      ],
      "metadata": {
        "id": "MiNjjzKjHqLH"
      }
    },
    {
      "cell_type": "code",
      "source": [
        "from flask import Flask, request, jsonify\n",
        "\n",
        "app = Flask(__name__)\n",
        "\n",
        "@app.route('/submit', methods=['POST'])\n",
        "def submit():\n",
        "    data = request.json  # For JSON data\n",
        "    name = data.get('name')\n",
        "    return jsonify({\"message\": f\"Hello, {name}!\"}), 200\n"
      ],
      "metadata": {
        "id": "W-9WebMjIkH3"
      },
      "execution_count": null,
      "outputs": []
    },
    {
      "cell_type": "markdown",
      "source": [
        "21. How would you secure a Flask API?\n",
        "- Securing a Flask API involves multiple best practices:\n",
        " - **Use HTTPS**: Encrypt all traffic to protect sensitive data in transit. Extensions like Flask-SSLify can help enforce HTTPS.\n",
        "\n",
        " - **Authentication and Authorization**: Implement mechanisms such as HTTP Basic Authentication, token-based authentication, or OAuth to ensure only authorized users can access the API. Flask extensions like Flask-HTTPAuth or Flask-JWT-Extended are commonly used.\n",
        "\n",
        " - **Protect against XSS and CSRF**: Escape user input, use secure cookie flags (HttpOnly, Secure), and consider CSRF protection with extensions like Flask-SeaSurf.\n",
        "\n",
        "  - **Content Security Policy (CSP)**: Implement CSP headers to mitigate cross-site scripting attacks.\n",
        "\n",
        " - **Keep Dependencies Updated**: Regularly update Flask and its dependencies to patch known vulnerabilities.\n",
        "\n",
        " - **Limit API exposure**: Only expose necessary endpoints and restrict methods as needed.\n",
        "\n",
        "22. What is the significance of the Flask-RESTful extension\n",
        "* Flask-RESTful is a powerful extension for Flask that streamlines the process of building RESTful APIs. Its main significance lies in:\n",
        "\n",
        "- Resource-Oriented Design: Flask-RESTful encourages developers to structure their APIs around resources, aligning with REST principles. Each resource is represented by a class, making the API intuitive, maintainable, and scalable.\n",
        "\n",
        "- Simplified API Development: It provides a Resource class for defining endpoints, an Api class for registering resources, and a reqparse module for request parsing and validation. This reduces boilerplate code and makes API creation more straightforward.\n",
        "\n",
        "- Automatic Serialization: Flask-RESTful handles the conversion between Python objects and JSON, ensuring consistent and reliable API responses without manual serialization.\n",
        "\n",
        "- Support for Multiple HTTP Methods: Each resource can easily support GET, POST, PUT, DELETE, and other HTTP methods, allowing for full CRUD operations.\n",
        "\n",
        "- Integration with Flask Ecosystem: It fits seamlessly into Flask applications and supports features like authentication, error handling, and documentation generation, making it suitable for microservices, data-driven, and real-time applications.\n"
      ],
      "metadata": {
        "id": "8zfIUYzgIvQQ"
      }
    },
    {
      "cell_type": "markdown",
      "source": [
        "23. What is the role of Flask’s session object?\n",
        "- Flask’s session object is used to store data that persists across multiple requests from the same client. It acts as a dictionary for session variables, allowing you to save and retrieve key-value pairs such as user authentication status, shopping cart contents, or user preferences. Key characteristics include:\n",
        "\n",
        "   - Persistence Across Requests: Data stored in the session remains available for the duration of the user's session, even as they navigate between different pages or endpoints.\n",
        "\n",
        " - Client-Side Storage with Security: By default, session data is stored on the client in a cookie, but it is cryptographically signed by the server using a secret key to prevent tampering.\n",
        "\n",
        " - Common Use Cases: Sessions are commonly used for user login states, shopping carts, form data retention, personalization, and analytics.\n",
        "\n",
        " - Easy API: The session object behaves like a dictionary, making it simple to set (session['key'] = value) and retrieve (session.get('key')) session data."
      ],
      "metadata": {
        "id": "zrBQmFziJ-hG"
      }
    },
    {
      "cell_type": "markdown",
      "source": [
        "# Practical"
      ],
      "metadata": {
        "id": "8BsxgbLRKgKe"
      }
    },
    {
      "cell_type": "markdown",
      "source": [
        " 1. How do you create a basic Flask application?\n",
        " -"
      ],
      "metadata": {
        "id": "HClQBd6QKwCu"
      }
    },
    {
      "cell_type": "markdown",
      "source": [
        "2. How do you serve static files like images or CSS in Flask?"
      ],
      "metadata": {
        "id": "DVDN98yKtgVU"
      }
    },
    {
      "cell_type": "code",
      "source": [
        "your_project/\n",
        "│\n",
        "├── app.py\n",
        "├── static/\n",
        "│   ├── css/\n",
        "│   │   └── style.css\n",
        "│   ├── img/\n",
        "│   │   └── logo.png\n",
        "│   └── js/\n",
        "│       └── script.js\n",
        "└── templates/\n",
        "    └── index.html\n"
      ],
      "metadata": {
        "id": "AYSbM8wztjhl"
      },
      "execution_count": null,
      "outputs": []
    },
    {
      "cell_type": "code",
      "source": [
        "<!DOCTYPE html>\n",
        "<html lang=\"en\">\n",
        "<head>\n",
        "    <meta charset=\"utf-8\">\n",
        "    <link rel=\"stylesheet\" href=\"{{ url_for('static', filename='css/style.css') }}\">\n",
        "</head>\n",
        "<body>\n",
        "    <img src=\"{{ url_for('static', filename='img/logo.png') }}\">\n",
        "</body>\n",
        "</html>\n"
      ],
      "metadata": {
        "id": "qjorHd2HvYWl"
      },
      "execution_count": null,
      "outputs": []
    },
    {
      "cell_type": "markdown",
      "source": [
        "3.  How do you define different routes with different HTTP methods in Flask?"
      ],
      "metadata": {
        "id": "65eLouDfwQge"
      }
    },
    {
      "cell_type": "code",
      "source": [
        "from flask import Flask, request\n",
        "\n",
        "app = Flask(__name__)\n",
        "\n",
        "# Route for GET method\n",
        "@app.route('/hello', methods=['GET'])\n",
        "def hello():\n",
        "    return \"Hello, GET request received!\"\n",
        "\n",
        "# Route for POST method\n",
        "@app.route('/submit', methods=['POST'])\n",
        "def submit():\n",
        "    data = request.form.get('data')  # assuming form data\n",
        "    return f\"POST received with data: {data}\"\n",
        "\n",
        "# Route that accepts both GET and POST\n",
        "@app.route('/both', methods=['GET', 'POST'])\n",
        "def both():\n",
        "    if request.method == 'POST':\n",
        "        return \"Handled a POST request\"\n",
        "    else:\n",
        "        return \"Handled a GET request\"\n",
        "\n",
        "if __name__ == '__main__':\n",
        "    app.run(debug=True)\n"
      ],
      "metadata": {
        "id": "rx8jZUugwflP"
      },
      "execution_count": null,
      "outputs": []
    },
    {
      "cell_type": "markdown",
      "source": [],
      "metadata": {
        "id": "Hm3ZZPEAwoX_"
      }
    },
    {
      "cell_type": "markdown",
      "source": [
        "4. How do you render HTML templates in Flask?"
      ],
      "metadata": {
        "id": "dufr2G9Gwnh3"
      }
    },
    {
      "cell_type": "code",
      "source": [
        "# Project Structure:\n",
        "your_project/\n",
        "│\n",
        "├── app.py\n",
        "└── templates/\n",
        "    └── index.html\n"
      ],
      "metadata": {
        "id": "l0lgUZdUwzBk"
      },
      "execution_count": null,
      "outputs": []
    },
    {
      "cell_type": "code",
      "source": [
        "2. app.py – Flask app with template rendering:\n",
        "from flask import Flask, render_template\n",
        "\n",
        "app = Flask(__name__)\n",
        "\n",
        "@app.route('/')\n",
        "def home():\n",
        "    return render_template('index.html', name=\"Alice\")\n",
        "\n",
        "if __name__ == '__main__':\n",
        "    app.run(debug=True)\n"
      ],
      "metadata": {
        "id": "9OcFfIejxC-N"
      },
      "execution_count": null,
      "outputs": []
    },
    {
      "cell_type": "code",
      "source": [
        "3. # templates/index.html – Jinja2 Template:\n",
        "<!DOCTYPE html>\n",
        "<html>\n",
        "<head>\n",
        "    <title>Flask Template Example</title>\n",
        "</head>\n",
        "<body>\n",
        "    <h1>Hello, {{ name }}!</h1>\n",
        "</body>\n",
        "</html>"
      ],
      "metadata": {
        "id": "6DcAMLCQxRpH"
      },
      "execution_count": null,
      "outputs": []
    },
    {
      "cell_type": "markdown",
      "source": [
        "5. How can you generate URLs for routes in Flask using url_for?"
      ],
      "metadata": {
        "id": "5ozf9tLoxd4e"
      }
    },
    {
      "cell_type": "code",
      "source": [
        "#  Basic Usage of url_for()\n",
        "from flask import Flask, url_for, redirect\n",
        "\n",
        "app = Flask(__name__)\n",
        "\n",
        "@app.route('/')\n",
        "def home():\n",
        "    return 'Home Page'\n",
        "\n",
        "@app.route('/about')\n",
        "def about():\n",
        "    return 'About Page'\n",
        "\n",
        "@app.route('/go-home')\n",
        "def go_home():\n",
        "    # Redirect to the home page using url_for\n",
        "    return redirect(url_for('home'))\n"
      ],
      "metadata": {
        "id": "01Frn3Qnxt6z"
      },
      "execution_count": null,
      "outputs": []
    },
    {
      "cell_type": "code",
      "source": [
        "# Generating URLs with Arguments:\n",
        "@app.route('/user/<username>')\n",
        "def profile(username):\n",
        "    return f\"User: {username}\"\n",
        "\n",
        "@app.route('/link-to-profile')\n",
        "def link():\n",
        "    return url_for('profile', username='alice')\n"
      ],
      "metadata": {
        "id": "K2VEGFPQyqGn"
      },
      "execution_count": null,
      "outputs": []
    },
    {
      "cell_type": "markdown",
      "source": [
        "6.  How do you handle forms in Flask?\n"
      ],
      "metadata": {
        "id": "R7i3sCCWyvRM"
      }
    },
    {
      "cell_type": "code",
      "source": [
        "<!DOCTYPE html>\n",
        "<html>\n",
        "<head><title>Flask Form</title></head>\n",
        "<body>\n",
        "  <h2>Submit Your Name</h2>\n",
        "  <form method=\"POST\" action=\"/submit\">\n",
        "    <input type=\"text\" name=\"username\" placeholder=\"Enter your name\">\n",
        "    <input type=\"submit\" value=\"Submit\">\n",
        "  </form>\n",
        "</body>\n",
        "</html>\n"
      ],
      "metadata": {
        "id": "Vss-BGAZzRK3"
      },
      "execution_count": null,
      "outputs": []
    },
    {
      "cell_type": "code",
      "source": [
        "# 2. Flask App (app.py)\n",
        "from flask import Flask, request, render_template\n",
        "\n",
        "app = Flask(__name__)\n",
        "\n",
        "@app.route('/')\n",
        "def index():\n",
        "    return render_template('form.html')\n",
        "\n",
        "@app.route('/submit', methods=['POST'])\n",
        "def submit():\n",
        "    username = request.form.get('username')\n",
        "    return f\"Hello, {username}!\"\n",
        "\n",
        "if __name__ == '__main__':\n",
        "    app.run(debug=True)\n"
      ],
      "metadata": {
        "id": "WV7-6B-NzSI0"
      },
      "execution_count": null,
      "outputs": []
    },
    {
      "cell_type": "markdown",
      "source": [
        "7. How can you validate form data in Flask?"
      ],
      "metadata": {
        "id": "gD51iAgyzW_v"
      }
    },
    {
      "cell_type": "code",
      "source": [
        "#  Install Flask-WTF\n",
        "pip install flask-wtf"
      ],
      "metadata": {
        "id": "iCn7CNtQ0YPj"
      },
      "execution_count": null,
      "outputs": []
    },
    {
      "cell_type": "code",
      "source": [
        "# 2. Set Up a Simple Flask App with Form Validation\n",
        "from flask import Flask, render_template, redirect, url_for\n",
        "from flask_wtf import FlaskForm\n",
        "from wtforms import StringField, SubmitField\n",
        "from wtforms.validators import DataRequired, Length\n",
        "\n",
        "app = Flask(__name__)\n",
        "app.secret_key = 'your_secret_key'  # Required for CSRF protection\n",
        "\n",
        "# Define the form\n",
        "class NameForm(FlaskForm):\n",
        "    name = StringField('Your Name', validators=[DataRequired(), Length(min=2, max=20)])\n",
        "    submit = SubmitField('Submit')\n",
        "\n",
        "@app.route('/', methods=['GET', 'POST'])\n",
        "def index():\n",
        "    form = NameForm()\n",
        "    if form.validate_on_submit():\n",
        "        return f\"Hello, {form.name.data}!\"\n",
        "    return render_template('form.html', form=form)\n",
        "\n",
        "if __name__ == '__main__':\n",
        "    app.run(debug=True)\n"
      ],
      "metadata": {
        "id": "Ms01ImcH0bgb"
      },
      "execution_count": null,
      "outputs": []
    },
    {
      "cell_type": "code",
      "source": [
        "# Create the HTML Template\n",
        "<!DOCTYPE html>\n",
        "<html>\n",
        "<head><title>Form Validation</title></head>\n",
        "<body>\n",
        "  <h2>Enter Your Name</h2>\n",
        "  <form method=\"POST\">\n",
        "    {{ form.hidden_tag() }}  <!-- CSRF protection -->\n",
        "    {{ form.name.label }}<br>\n",
        "    {{ form.name(size=20) }}<br>\n",
        "    {% for error in form.name.errors %}\n",
        "      <span style=\"color: red;\">{{ error }}</span><br>\n",
        "    {% endfor %}\n",
        "    <br>\n",
        "    {{ form.submit() }}\n",
        "  </form>\n",
        "</body>\n",
        "</html>\n"
      ],
      "metadata": {
        "id": "ssf3tIMQ0fhq"
      },
      "execution_count": null,
      "outputs": []
    },
    {
      "cell_type": "markdown",
      "source": [
        "8.  How do you manage sessions in Flask?"
      ],
      "metadata": {
        "id": "BQU1TJZj01P9"
      }
    },
    {
      "cell_type": "code",
      "source": [
        "# Minimal Flask App with Session\n",
        "from flask import Flask, session, redirect, url_for, request\n",
        "\n",
        "app = Flask(__name__)\n",
        "app.secret_key = 'your_secret_key'  # Required to sign session cookies\n",
        "\n",
        "@app.route('/')\n",
        "def index():\n",
        "    if 'username' in session:\n",
        "        return f\"Welcome back, {session['username']}!\"\n",
        "    return \"You are not logged in.\"\n",
        "\n",
        "@app.route('/login', methods=['GET', 'POST'])\n",
        "def login():\n",
        "    if request.method == 'POST':\n",
        "        session['username'] = request.form['username']\n",
        "        return redirect(url_for('index'))\n",
        "    return '''\n",
        "        <form method=\"post\">\n",
        "            <input type=\"text\" name=\"username\" placeholder=\"Enter username\">\n",
        "            <input type=\"submit\" value=\"Login\">\n",
        "        </form>\n",
        "    '''\n",
        "\n",
        "@app.route('/logout')\n",
        "def logout():\n",
        "    session.pop('username', None)  # Remove 'username' from session\n",
        "    return redirect(url_for('index'))\n",
        "\n",
        "if __name__ == '__main__':\n",
        "    app.run(debug=True)\n"
      ],
      "metadata": {
        "id": "x_WmKV6p00w-"
      },
      "execution_count": null,
      "outputs": []
    },
    {
      "cell_type": "markdown",
      "source": [
        "9. How do you redirect to a different route in Flask?"
      ],
      "metadata": {
        "id": "haN2dmq81LdN"
      }
    },
    {
      "cell_type": "code",
      "source": [
        "from flask import Flask, redirect, url_for\n",
        "\n",
        "app = Flask(__name__)\n",
        "\n",
        "@app.route('/')\n",
        "def home():\n",
        "    return 'This is the home page.'\n",
        "\n",
        "@app.route('/login')\n",
        "def login():\n",
        "    return 'Login Page'\n",
        "\n",
        "@app.route('/go-to-login')\n",
        "def go_to_login():\n",
        "    # Redirect to the login route\n",
        "    return redirect(url_for('login'))\n",
        "\n",
        "if __name__ == '__main__':\n",
        "    app.run(debug=True)\n"
      ],
      "metadata": {
        "id": "wRxLJ7yL1PVY"
      },
      "execution_count": null,
      "outputs": []
    },
    {
      "cell_type": "markdown",
      "source": [
        "10. How do you handle errors in Flask (e.g., 404)?\n"
      ],
      "metadata": {
        "id": "Shn_zADC1Qfr"
      }
    },
    {
      "cell_type": "code",
      "source": [
        "from flask import Flask, render_template\n",
        "\n",
        "app = Flask(__name__)\n",
        "\n",
        "# Custom 404 error handler\n",
        "@app.errorhandler(404)\n",
        "def page_not_found(e):\n",
        "    return render_template('404.html'), 404\n",
        "\n",
        "@app.route('/')\n",
        "def home():\n",
        "    return 'Welcome to the Home Page!'\n",
        "\n",
        "if __name__ == '__main__':\n",
        "    app.run(debug=True)\n"
      ],
      "metadata": {
        "id": "0_mbvs4P1hh5"
      },
      "execution_count": null,
      "outputs": []
    },
    {
      "cell_type": "code",
      "source": [
        "<!DOCTYPE html>\n",
        "<html>\n",
        "<head><title>Page Not Found</title></head>\n",
        "<body>\n",
        "    <h1>404 - Page Not Found</h1>\n",
        "    <p>Sorry, the page you're looking for doesn't exist.</p>\n",
        "</body>\n",
        "</html>\n"
      ],
      "metadata": {
        "id": "vr1Noaya1ih9"
      },
      "execution_count": null,
      "outputs": []
    },
    {
      "cell_type": "markdown",
      "source": [
        "11. How do you structure a Flask app using Blueprints?"
      ],
      "metadata": {
        "id": "JN4z3L8v1m7i"
      }
    },
    {
      "cell_type": "code",
      "source": [
        "your_project/\n",
        "│\n",
        "├── app.py\n",
        "├── main/\n",
        "│   ├── __init__.py\n",
        "│   └── routes.py\n",
        "└── templates/\n",
        "    └── home.html\n"
      ],
      "metadata": {
        "id": "0b0OwGpt2cG8"
      },
      "execution_count": null,
      "outputs": []
    },
    {
      "cell_type": "code",
      "source": [
        "# main/routes.py – Define the Blueprint\n",
        "from flask import Blueprint, render_template\n",
        "\n",
        "main = Blueprint('main', __name__)\n",
        "\n",
        "@main.route('/')\n",
        "def home():\n",
        "    return render_template('home.html')\n"
      ],
      "metadata": {
        "id": "5Yh_waLY2fRc"
      },
      "execution_count": null,
      "outputs": []
    },
    {
      "cell_type": "code",
      "source": [
        "# main/__init__.py – Export the Blueprint\n",
        "# This file is required so Python treats `main/` as a package\n",
        "# app.py – Create App and Register Blueprint\n",
        "\n",
        "from flask import Flask\n",
        "from main.routes import main\n",
        "\n",
        "app = Flask(__name__)\n",
        "\n",
        "# Register the blueprint\n",
        "app.register_blueprint(main)\n",
        "\n",
        "if __name__ == '__main__':\n",
        "    app.run(debug=True)\n"
      ],
      "metadata": {
        "id": "GymIijvF2jxi"
      },
      "execution_count": null,
      "outputs": []
    },
    {
      "cell_type": "code",
      "source": [
        "# 4. templates/home.html – HTML Template\n",
        "<!DOCTYPE html>\n",
        "<html>\n",
        "<head><title>Home</title></head>\n",
        "<body>\n",
        "    <h1>Welcome to the Home Page (Blueprint)</h1>\n",
        "</body>\n",
        "</html>\n"
      ],
      "metadata": {
        "id": "-9b-xvDU2yG6"
      },
      "execution_count": null,
      "outputs": []
    },
    {
      "cell_type": "markdown",
      "source": [
        " 12. How do you define a custom Jinja filter in Flask?"
      ],
      "metadata": {
        "id": "rxgn-wWO25XM"
      }
    },
    {
      "cell_type": "code",
      "source": [
        "# 1. Create the Filter Function\n",
        "def reverse_string(s):\n",
        "    return s[::-1]\n"
      ],
      "metadata": {
        "id": "IHwVW3rD3S-l"
      },
      "execution_count": null,
      "outputs": []
    },
    {
      "cell_type": "code",
      "source": [
        "# 2. Register the Filter with Flask\n",
        "from flask import Flask\n",
        "\n",
        "app = Flask(__name__)\n",
        "\n",
        "@app.template_filter('reverse')\n",
        "def reverse_string(s):\n",
        "    return s[::-1]\n"
      ],
      "metadata": {
        "id": "baHE5HUK3V7N"
      },
      "execution_count": null,
      "outputs": []
    },
    {
      "cell_type": "code",
      "source": [
        "# Use the Filter in a Jinja Template\n",
        "<!DOCTYPE html>\n",
        "<html>\n",
        "<head><title>Custom Filter Example</title></head>\n",
        "<body>\n",
        "  <p>Original: {{ name }}</p>\n",
        "  <p>Reversed: {{ name | reverse }}</p>\n",
        "</body>\n",
        "</html>\n"
      ],
      "metadata": {
        "id": "EtzPelHu3bxG"
      },
      "execution_count": null,
      "outputs": []
    },
    {
      "cell_type": "markdown",
      "source": [
        "13. How can you redirect with query parameters in Flask?"
      ],
      "metadata": {
        "id": "obT8tqBP3lwy"
      }
    },
    {
      "cell_type": "code",
      "source": [
        "from flask import Flask, redirect, url_for, request\n",
        "\n",
        "app = Flask(__name__)\n",
        "\n",
        "@app.route('/')\n",
        "def home():\n",
        "    # Retrieve query parameters if any\n",
        "    name = request.args.get('name', 'Guest')\n",
        "    return f\"Hello, {name}!\"\n",
        "\n",
        "@app.route('/go')\n",
        "def go():\n",
        "    # Redirect to 'home' with a query parameter 'name=Alice'\n",
        "    return redirect(url_for('home', name='Alice'))\n",
        "\n",
        "if __name__ == '__main__':\n",
        "    app.run(debug=True)\n"
      ],
      "metadata": {
        "id": "JZatty9B3u28"
      },
      "execution_count": null,
      "outputs": []
    },
    {
      "cell_type": "markdown",
      "source": [
        "14. How do you return JSON responses in Flask?"
      ],
      "metadata": {
        "id": "F8QvNolP3yua"
      }
    },
    {
      "cell_type": "code",
      "source": [
        "from flask import Flask, jsonify\n",
        "\n",
        "app = Flask(__name__)\n",
        "\n",
        "@app.route('/api/data')\n",
        "def get_data():\n",
        "    data = {\n",
        "        \"name\": \"Alice\",\n",
        "        \"age\": 30,\n",
        "        \"city\": \"New York\"\n",
        "    }\n",
        "    return jsonify(data)\n",
        "\n",
        "if __name__ == '__main__':\n",
        "    app.run(debug=True)\n"
      ],
      "metadata": {
        "id": "cjawmar03yJG"
      },
      "execution_count": null,
      "outputs": []
    },
    {
      "cell_type": "markdown",
      "source": [
        "15. How do you capture URL parameters in Flask?"
      ],
      "metadata": {
        "id": "ltobpQjh39r0"
      }
    },
    {
      "cell_type": "code",
      "source": [
        "from flask import Flask\n",
        "\n",
        "app = Flask(__name__)\n",
        "\n",
        "@app.route('/user/<username>')\n",
        "def show_user_profile(username):\n",
        "    return f\"User: {username}\"\n",
        "\n",
        "@app.route('/post/<int:post_id>')\n",
        "def show_post(post_id):\n",
        "    return f\"Post ID: {post_id}\"\n",
        "\n",
        "if __name__ == '__main__':\n",
        "    app.run(debug=True)\n"
      ],
      "metadata": {
        "id": "pl1grhWg39Ve"
      },
      "execution_count": null,
      "outputs": []
    }
  ]
}